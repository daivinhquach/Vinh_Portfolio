{
  "cells": [
    {
      "cell_type": "code",
      "execution_count": null,
      "metadata": {
        "id": "0l0Mddq0XaK4"
      },
      "outputs": [],
      "source": [
        "## Import neccessary packages\n",
        "import pandas as pd\n",
        "from csv import reader\n",
        "import matplotlib.pyplot as plt\n",
        "import numpy as np\n",
        "from datetime import datetime\n",
        "import seaborn as sns\n"
      ]
    },
    {
      "cell_type": "code",
      "execution_count": null,
      "metadata": {
        "id": "Whq2pFTfs26b"
      },
      "outputs": [],
      "source": [
        "## Reading dataset\n",
        "car = pd.read_csv(\"car_evaluation.csv\",header=None)\n",
        "car.columns =['buying', 'maint', 'doors', 'persons','lug_boot','safety','class']"
      ]
    },
    {
      "cell_type": "code",
      "source": [
        "## Checking dataset on number of values in each values, missing value, outliers"
      ],
      "metadata": {
        "id": "QV-esI3KSieU"
      },
      "execution_count": null,
      "outputs": []
    },
    {
      "cell_type": "code",
      "source": [
        "## Show the number values of each column\n",
        "sns.set(style=\"darkgrid\")\n",
        "ax = sns.countplot(x=\"buying\", data=car)"
      ],
      "metadata": {
        "colab": {
          "base_uri": "https://localhost:8080/",
          "height": 285
        },
        "id": "LM_Um-a-Tn5Y",
        "outputId": "43412ac2-210b-43a5-c01a-ddd9028330a6"
      },
      "execution_count": null,
      "outputs": [
        {
          "output_type": "display_data",
          "data": {
            "text/plain": [
              "<Figure size 432x288 with 1 Axes>"
            ],
            "image/png": "[encoded data removed]"
          },
          "metadata": {}
        }
      ]
    },
    {
      "cell_type": "code",
      "source": [
        "## Show the missing values of each column\n",
        "sns.heatmap(car.isnull(),\\\n",
        "            # yticklabels=False,cbar=False,cmap=\"blue\"\n",
        "            )\n"
      ],
      "metadata": {
        "colab": {
          "base_uri": "https://localhost:8080/",
          "height": 327
        },
        "id": "JvUqSms4Zl5e",
        "outputId": "164ae517-82a0-41d1-d24a-badf087c4a97"
      },
      "execution_count": null,
      "outputs": [
        {
          "output_type": "execute_result",
          "data": {
            "text/plain": [
              "<matplotlib.axes._subplots.AxesSubplot at 0x7f42f7cbb8d0>"
            ]
          },
          "metadata": {},
          "execution_count": 147
        },
        {
          "output_type": "display_data",
          "data": {
            "text/plain": [
              "<Figure size 432x288 with 2 Axes>"
            ],
            "image/png": "[encoded data removed]"
          },
          "metadata": {}
        }
      ]
    },
    {
      "cell_type": "code",
      "execution_count": null,
      "metadata": {
        "id": "pxmMPp4yYYXZ"
      },
      "outputs": [],
      "source": [
        "####### Preprocessing data"
      ]
    },
    {
      "cell_type": "code",
      "source": [
        "## Encoding data\n",
        "car[\"buying_encoding\"] = np.where(car[\"buying\"] == \"vhigh\", 1,\n",
        "                                  np.where(car[\"buying\"] == \"high\", 2,\n",
        "                                           np.where(car[\"buying\"] == \"med\", 3,4)\n",
        "                                  ))\n",
        "car[\"maint_encoding\"] = np.where(car[\"maint\"] == \"vhigh\", 1,\n",
        "                                  np.where(car[\"maint\"] == \"high\", 2,\n",
        "                                           np.where(car[\"maint\"] == \"med\", 3,4)\n",
        "                                  ))\n",
        "car[\"lug_boot_encoding\"] = np.where(car[\"lug_boot\"] == \"big\", 1,\n",
        "                                  np.where(car[\"lug_boot\"] == \"med\", 2,3)\n",
        "                                  )\n",
        "car[\"safety_encoding\"] = np.where(car[\"safety\"] == \"high\", 1,\n",
        "                                  np.where(car[\"safety\"] == \"med\", 2,3)\n",
        "                                  )\n",
        "car[\"doors_encoding\"] = np.where(car[\"doors\"] == \"2\", 1,\n",
        "                                  np.where(car[\"doors\"] == \"3\", 2,\n",
        "                                           np.where(car[\"doors\"] == \"4\", 3,4)\n",
        "                                  ))\n",
        "car[\"persons_encoding\"] = np.where(car[\"persons\"] == \"2\", 1,\n",
        "                                  np.where(car[\"persons\"] == \"4\", 2,3)\n",
        "                                  )\n",
        "car[\"class_encoding\"] = np.where(car[\"class\"] == \"unacc\",0,1)"
      ],
      "metadata": {
        "id": "wTh4ge--OnU9"
      },
      "execution_count": null,
      "outputs": []
    },
    {
      "cell_type": "code",
      "execution_count": null,
      "metadata": {
        "id": "nwJmZkiC86lf"
      },
      "outputs": [],
      "source": [
        "## Select columns\n",
        "car_encode = car[[\"buying_encoding\",\"maint_encoding\",\"doors_encoding\",\\\n",
        "                  \"persons_encoding\",\"lug_boot_encoding\",\"safety_encoding\",\"class_encoding\"]]"
      ]
    },
    {
      "cell_type": "code",
      "source": [
        "## Define Function"
      ],
      "metadata": {
        "id": "Sp85qgVXDtLS"
      },
      "execution_count": null,
      "outputs": []
    },
    {
      "cell_type": "code",
      "source": [
        "def train_test(orginal_dataset,percent):\n",
        "  '''\n",
        "  This function is to split dataset into training and testing data and differentiate variable columns and class column\n",
        "  Orginal_dataset: the data need to be splited\n",
        "  Persent: how many percent to split training set\n",
        "  '''\n",
        "  ## Split dataset into training and testing data\n",
        "  sz = len(orginal_dataset) ## Counting number of row in orginal_dataset\n",
        "  cut = int(percent * sz)\n",
        "  shuffled_l = car_encode.sample(frac=1) ## shiffle the dataset\n",
        "  train = shuffled_l[:cut] # first percent% of dataset will be training set\n",
        "  test = shuffled_l[cut:] # last (1-percent)% of dataset will be testing set\n",
        "\n",
        "  ## Differentiate variable columns and class column\n",
        "  x_train = train.drop([\"class_encoding\"],1)\n",
        "  x_test = test.drop([\"class_encoding\"],1)\n",
        "  y_train = train.drop([\"buying_encoding\",\"maint_encoding\",\"doors_encoding\",\\\n",
        "                  \"persons_encoding\",\"lug_boot_encoding\",\"safety_encoding\",],1)\n",
        "  y_test = test.drop([\"buying_encoding\",\"maint_encoding\",\"doors_encoding\",\\\n",
        "                  \"persons_encoding\",\"lug_boot_encoding\",\"safety_encoding\",],1)\n",
        "  return x_train,x_test,y_train,y_test"
      ],
      "metadata": {
        "id": "KWGsackAG_sH"
      },
      "execution_count": null,
      "outputs": []
    },
    {
      "cell_type": "code",
      "execution_count": null,
      "metadata": {
        "id": "ztP3phPLHufP"
      },
      "outputs": [],
      "source": [
        "def KNN_predict(x_train,y_train,x_test,k):\n",
        "  '''\n",
        "  This function is measure the distance of a row in common testing dataset to entirely common training dataset then\n",
        "  based on the class of k points nearest the point in class training data set to predict the class of the row in\n",
        "  common testing dataset (Meaning which class dominates in the group of nearest point will be the class of it)\n",
        "  x_train: common training dataset (meaning including column without class of training dataset)\n",
        "  y_train: class training dataset (meaning including only the class of training dataset)\n",
        "  x_test: common testing dataset (meaning including column without class of testing dataset)\n",
        "  k: expected nearest points in training set to a given point in testing dataset\n",
        "  '''\n",
        "  prediction = []\n",
        "  for i in range(len(x_test)):\n",
        "  ## calculate distancee by euclidean for each test row and match to class training dataset\n",
        "    dist = ((x_test.iloc[i] - x_train)**2)\n",
        "    y_train['distance'] = dist.sum(axis=1).apply(np.sqrt)\n",
        "  ## Arrange the distance ascendingly to find k nearest point\n",
        "    y_train.sort_values(by=['distance'], inplace=True)\n",
        "  ## Pick k nearest points and count number of values of each class then choose the one appeared the most\n",
        "    class_choose = y_train[\"class_encoding_2\"][:k].value_counts().idxmax()\n",
        "    prediction.append(class_choose)\n",
        "  return prediction"
      ]
    },
    {
      "cell_type": "code",
      "source": [
        "def Predict_and_checking_accuracy(x_train,y_train,x_test,y_test,k):\n",
        "  '''\n",
        "  This function is to run the function KNN_predict and validate the result\n",
        "  and showing the running time of each model according to each expected K\n",
        "  x_train, y_train, x_test,k: datasets are applied to run function KNN_predict\n",
        "  y_test: to compare with the prediction from the function KNN_predict\n",
        "  '''\n",
        "  start_time = datetime.now()\n",
        "\n",
        "  y_test[\"prediction\"] = KNN_predict(x_train,y_train,x_test,k)\n",
        "\n",
        "  ## Measure the running time of each model\n",
        "  end_time = datetime.now()\n",
        "  Running_time = format(end_time - start_time)\n",
        "\n",
        "  ## Calculate Accuracy of the dataset\n",
        "  y_test['comparison'] = np.where(y_test['class_encoding_2'] == y_test['prediction'], \"True\", \"False\")\n",
        "  Accuracy = (len(y_test[y_test['comparison'] == \"True\"])/ \\\n",
        "              (len(y_test[y_test['comparison'] == \"True\"])+ \\\n",
        "               len(y_test[y_test['comparison'] == \"False\"])))*100\n",
        "\n",
        "  ## Calculate Precision and recall of the dataset (Precision = TP/(TP+FP), Recall = TP/(TP+FN))\n",
        "  y_test['Confusion_matrix']  = np.where((y_test['class_encoding_2'] == 1)&(y_test['prediction'] == 1),\"True_positive\",\\\n",
        "          np.where((y_test['class_encoding_2'] == 1)&(y_test['prediction'] == 2),\"False_positive\",\n",
        "                    np.where((y_test['class_encoding_2'] == 2)&(y_test['prediction'] == 1),\"False_negative\",\"True_negative\")\n",
        "                    )\n",
        "          )\n",
        "  Precision =  (len(y_test[y_test['Confusion_matrix'] == \"True_positive\"])/ \\\n",
        "                (len(y_test[y_test['Confusion_matrix'] == \"True_positive\"])+\\\n",
        "                len(y_test[y_test['Confusion_matrix'] == \"False_positive\"])))*100\n",
        "\n",
        "  Recall =  (len(y_test[y_test['Confusion_matrix'] == \"True_positive\"])/ \\\n",
        "            (len(y_test[y_test['Confusion_matrix'] == \"True_positive\"])+ \\\n",
        "              len(y_test[y_test['Confusion_matrix'] == \"False_negative\"])))*100\n",
        "  return k,Accuracy,Precision,Recall,Running_time"
      ],
      "metadata": {
        "id": "L9q47e-JwIED"
      },
      "execution_count": null,
      "outputs": []
    },
    {
      "cell_type": "code",
      "source": [
        "## Apply and Run function to complete the model"
      ],
      "metadata": {
        "id": "Z8USOD-TH_gM"
      },
      "execution_count": null,
      "outputs": []
    },
    {
      "cell_type": "code",
      "source": [
        "## Spliting data\n",
        "x_train,x_test,y_train,y_test = train_test(car_encode,0.8)"
      ],
      "metadata": {
        "colab": {
          "base_uri": "https://localhost:8080/"
        },
        "id": "p5yAp76YO2dO",
        "outputId": "000d2fc8-83c4-4353-9978-3d727bc55eea"
      },
      "execution_count": null,
      "outputs": [
        {
          "output_type": "stream",
          "name": "stderr",
          "text": [
            "/usr/local/lib/python3.7/dist-packages/ipykernel_launcher.py:7: FutureWarning: In a future version of pandas all arguments of DataFrame.drop except for the argument 'labels' will be keyword-only\n",
            "  import sys\n",
            "/usr/local/lib/python3.7/dist-packages/ipykernel_launcher.py:8: FutureWarning: In a future version of pandas all arguments of DataFrame.drop except for the argument 'labels' will be keyword-only\n",
            "  \n",
            "/usr/local/lib/python3.7/dist-packages/ipykernel_launcher.py:10: FutureWarning: In a future version of pandas all arguments of DataFrame.drop except for the argument 'labels' will be keyword-only\n",
            "  # Remove the CWD from sys.path while we load stuff.\n",
            "/usr/local/lib/python3.7/dist-packages/ipykernel_launcher.py:12: FutureWarning: In a future version of pandas all arguments of DataFrame.drop except for the argument 'labels' will be keyword-only\n",
            "  if sys.path[0] == '':\n"
          ]
        }
      ]
    },
    {
      "cell_type": "code",
      "execution_count": null,
      "metadata": {
        "id": "Lz09oGaEaufM"
      },
      "outputs": [],
      "source": [
        "## Finding the appropriate number of K for the dataset\n",
        "Standard_K = int(sqrt(len(car_encode)))\n",
        "\n",
        "## Running model from 1 to Standard_K\n",
        "Result_of_each_k = []\n",
        "for k in range(1,Standard_K,2):\n",
        "    final_result = Predict_and_checking_accuracy(x_train,y_train,x_test,y_test,k)\n",
        "    Result_of_each_k.append(final_result)\n",
        "final_result = pd.DataFrame(Result_of_each_k, columns = [\"k\",\"Accuracy\",\"Precision\",\"Recall\",\"Running_time\"])"
      ]
    },
    {
      "cell_type": "code",
      "source": [
        "final_result"
      ],
      "metadata": {
        "colab": {
          "base_uri": "https://localhost:8080/",
          "height": 677
        },
        "id": "Y8KAHveP_6Rb",
        "outputId": "72dfa59e-5bbc-485c-fff1-53f835a57ce6"
      },
      "execution_count": null,
      "outputs": [
        {
          "output_type": "execute_result",
          "data": {
            "text/plain": [
              "     k   Accuracy  Precision     Recall    Running_time\n",
              "0    1  85.549133  78.787879  72.897196  0:00:00.804643\n",
              "1    3  94.508671  86.868687  93.478261  0:00:00.790103\n",
              "2    5  98.265896  96.969697  96.969697  0:00:00.760917\n",
              "3    7  97.976879  94.949495  97.916667  0:00:00.766150\n",
              "4    9  98.265896  94.949495  98.947368  0:00:00.766863\n",
              "5   11  97.398844  92.929293  97.872340  0:00:00.760168\n",
              "6   13  96.820809  93.939394  94.897959  0:00:00.767787\n",
              "7   15  97.398844  94.949495  95.918367  0:00:00.759791\n",
              "8   17  96.531792  92.929293  94.845361  0:00:00.790964\n",
              "9   19  95.664740  89.898990  94.680851  0:00:00.770959\n",
              "10  21  97.398844  92.929293  97.872340  0:00:00.770233\n",
              "11  23  96.531792  89.898990  97.802198  0:00:00.754839\n",
              "12  25  96.820809  89.898990  98.888889  0:00:00.759148\n",
              "13  27  97.109827  92.929293  96.842105  0:00:00.774912\n",
              "14  29  96.242775  89.898990  96.739130  0:00:00.925892\n",
              "15  31  96.242775  89.898990  96.739130  0:00:01.100141\n",
              "16  33  95.664740  88.888889  95.652174  0:00:01.019117\n",
              "17  35  96.242775  91.919192  94.791667  0:00:00.770222\n",
              "18  37  95.953757  91.919192  93.814433  0:00:00.770788\n",
              "19  39  95.086705  88.888889  93.617021  0:00:00.767587"
            ],
            "text/html": [
              "\n",
              "  <div id=\"df-ec87e884-656e-4cd1-b0d1-c309a7bd47d2\">\n",
              "    <div class=\"colab-df-container\">\n",
              "      <div>\n",
              "<style scoped>\n",
              "    .dataframe tbody tr th:only-of-type {\n",
              "        vertical-align: middle;\n",
              "    }\n",
              "\n",
              "    .dataframe tbody tr th {\n",
              "        vertical-align: top;\n",
              "    }\n",
              "\n",
              "    .dataframe thead th {\n",
              "        text-align: right;\n",
              "    }\n",
              "</style>\n",
              "<table border=\"1\" class=\"dataframe\">\n",
              "  <thead>\n",
              "    <tr style=\"text-align: right;\">\n",
              "      <th></th>\n",
              "      <th>k</th>\n",
              "      <th>Accuracy</th>\n",
              "      <th>Precision</th>\n",
              "      <th>Recall</th>\n",
              "      <th>Running_time</th>\n",
              "    </tr>\n",
              "  </thead>\n",
              "  <tbody>\n",
              "    <tr>\n",
              "      <th>0</th>\n",
              "      <td>1</td>\n",
              "      <td>85.549133</td>\n",
              "      <td>78.787879</td>\n",
              "      <td>72.897196</td>\n",
              "      <td>0:00:00.804643</td>\n",
              "    </tr>\n",
              "    <tr>\n",
              "      <th>1</th>\n",
              "      <td>3</td>\n",
              "      <td>94.508671</td>\n",
              "      <td>86.868687</td>\n",
              "      <td>93.478261</td>\n",
              "      <td>0:00:00.790103</td>\n",
              "    </tr>\n",
              "    <tr>\n",
              "      <th>2</th>\n",
              "      <td>5</td>\n",
              "      <td>98.265896</td>\n",
              "      <td>96.969697</td>\n",
              "      <td>96.969697</td>\n",
              "      <td>0:00:00.760917</td>\n",
              "    </tr>\n",
              "    <tr>\n",
              "      <th>3</th>\n",
              "      <td>7</td>\n",
              "      <td>97.976879</td>\n",
              "      <td>94.949495</td>\n",
              "      <td>97.916667</td>\n",
              "      <td>0:00:00.766150</td>\n",
              "    </tr>\n",
              "    <tr>\n",
              "      <th>4</th>\n",
              "      <td>9</td>\n",
              "      <td>98.265896</td>\n",
              "      <td>94.949495</td>\n",
              "      <td>98.947368</td>\n",
              "      <td>0:00:00.766863</td>\n",
              "    </tr>\n",
              "    <tr>\n",
              "      <th>5</th>\n",
              "      <td>11</td>\n",
              "      <td>97.398844</td>\n",
              "      <td>92.929293</td>\n",
              "      <td>97.872340</td>\n",
              "      <td>0:00:00.760168</td>\n",
              "    </tr>\n",
              "    <tr>\n",
              "      <th>6</th>\n",
              "      <td>13</td>\n",
              "      <td>96.820809</td>\n",
              "      <td>93.939394</td>\n",
              "      <td>94.897959</td>\n",
              "      <td>0:00:00.767787</td>\n",
              "    </tr>\n",
              "    <tr>\n",
              "      <th>7</th>\n",
              "      <td>15</td>\n",
              "      <td>97.398844</td>\n",
              "      <td>94.949495</td>\n",
              "      <td>95.918367</td>\n",
              "      <td>0:00:00.759791</td>\n",
              "    </tr>\n",
              "    <tr>\n",
              "      <th>8</th>\n",
              "      <td>17</td>\n",
              "      <td>96.531792</td>\n",
              "      <td>92.929293</td>\n",
              "      <td>94.845361</td>\n",
              "      <td>0:00:00.790964</td>\n",
              "    </tr>\n",
              "    <tr>\n",
              "      <th>9</th>\n",
              "      <td>19</td>\n",
              "      <td>95.664740</td>\n",
              "      <td>89.898990</td>\n",
              "      <td>94.680851</td>\n",
              "      <td>0:00:00.770959</td>\n",
              "    </tr>\n",
              "    <tr>\n",
              "      <th>10</th>\n",
              "      <td>21</td>\n",
              "      <td>97.398844</td>\n",
              "      <td>92.929293</td>\n",
              "      <td>97.872340</td>\n",
              "      <td>0:00:00.770233</td>\n",
              "    </tr>\n",
              "    <tr>\n",
              "      <th>11</th>\n",
              "      <td>23</td>\n",
              "      <td>96.531792</td>\n",
              "      <td>89.898990</td>\n",
              "      <td>97.802198</td>\n",
              "      <td>0:00:00.754839</td>\n",
              "    </tr>\n",
              "    <tr>\n",
              "      <th>12</th>\n",
              "      <td>25</td>\n",
              "      <td>96.820809</td>\n",
              "      <td>89.898990</td>\n",
              "      <td>98.888889</td>\n",
              "      <td>0:00:00.759148</td>\n",
              "    </tr>\n",
              "    <tr>\n",
              "      <th>13</th>\n",
              "      <td>27</td>\n",
              "      <td>97.109827</td>\n",
              "      <td>92.929293</td>\n",
              "      <td>96.842105</td>\n",
              "      <td>0:00:00.774912</td>\n",
              "    </tr>\n",
              "    <tr>\n",
              "      <th>14</th>\n",
              "      <td>29</td>\n",
              "      <td>96.242775</td>\n",
              "      <td>89.898990</td>\n",
              "      <td>96.739130</td>\n",
              "      <td>0:00:00.925892</td>\n",
              "    </tr>\n",
              "    <tr>\n",
              "      <th>15</th>\n",
              "      <td>31</td>\n",
              "      <td>96.242775</td>\n",
              "      <td>89.898990</td>\n",
              "      <td>96.739130</td>\n",
              "      <td>0:00:01.100141</td>\n",
              "    </tr>\n",
              "    <tr>\n",
              "      <th>16</th>\n",
              "      <td>33</td>\n",
              "      <td>95.664740</td>\n",
              "      <td>88.888889</td>\n",
              "      <td>95.652174</td>\n",
              "      <td>0:00:01.019117</td>\n",
              "    </tr>\n",
              "    <tr>\n",
              "      <th>17</th>\n",
              "      <td>35</td>\n",
              "      <td>96.242775</td>\n",
              "      <td>91.919192</td>\n",
              "      <td>94.791667</td>\n",
              "      <td>0:00:00.770222</td>\n",
              "    </tr>\n",
              "    <tr>\n",
              "      <th>18</th>\n",
              "      <td>37</td>\n",
              "      <td>95.953757</td>\n",
              "      <td>91.919192</td>\n",
              "      <td>93.814433</td>\n",
              "      <td>0:00:00.770788</td>\n",
              "    </tr>\n",
              "    <tr>\n",
              "      <th>19</th>\n",
              "      <td>39</td>\n",
              "      <td>95.086705</td>\n",
              "      <td>88.888889</td>\n",
              "      <td>93.617021</td>\n",
              "      <td>0:00:00.767587</td>\n",
              "    </tr>\n",
              "  </tbody>\n",
              "</table>\n",
              "</div>\n",
              "      <button class=\"colab-df-convert\" onclick=\"convertToInteractive('df-ec87e884-656e-4cd1-b0d1-c309a7bd47d2')\"\n",
              "              title=\"Convert this dataframe to an interactive table.\"\n",
              "              style=\"display:none;\">\n",
              "        \n",
              "  <svg xmlns=\"http://www.w3.org/2000/svg\" height=\"24px\"viewBox=\"0 0 24 24\"\n",
              "       width=\"24px\">\n",
              "    <path d=\"M0 0h24v24H0V0z\" fill=\"none\"/>\n",
              "    <path d=\"M18.56 5.44l.94 2.06.94-2.06 2.06-.94-2.06-.94-.94-2.06-.94 2.06-2.06.94zm-11 1L8.5 8.5l.94-2.06 2.06-.94-2.06-.94L8.5 2.5l-.94 2.06-2.06.94zm10 10l.94 2.06.94-2.06 2.06-.94-2.06-.94-.94-2.06-.94 2.06-2.06.94z\"/><path d=\"M17.41 7.96l-1.37-1.37c-.4-.4-.92-.59-1.43-.59-.52 0-1.04.2-1.43.59L10.3 9.45l-7.72 7.72c-.78.78-.78 2.05 0 2.83L4 21.41c.39.39.9.59 1.41.59.51 0 1.02-.2 1.41-.59l7.78-7.78 2.81-2.81c.8-.78.8-2.07 0-2.86zM5.41 20L4 18.59l7.72-7.72 1.47 1.35L5.41 20z\"/>\n",
              "  </svg>\n",
              "      </button>\n",
              "      \n",
              "  <style>\n",
              "    .colab-df-container {\n",
              "      display:flex;\n",
              "      flex-wrap:wrap;\n",
              "      gap: 12px;\n",
              "    }\n",
              "\n",
              "    .colab-df-convert {\n",
              "      background-color: #E8F0FE;\n",
              "      border: none;\n",
              "      border-radius: 50%;\n",
              "      cursor: pointer;\n",
              "      display: none;\n",
              "      fill: #1967D2;\n",
              "      height: 32px;\n",
              "      padding: 0 0 0 0;\n",
              "      width: 32px;\n",
              "    }\n",
              "\n",
              "    .colab-df-convert:hover {\n",
              "      background-color: #E2EBFA;\n",
              "      box-shadow: 0px 1px 2px rgba(60, 64, 67, 0.3), 0px 1px 3px 1px rgba(60, 64, 67, 0.15);\n",
              "      fill: #174EA6;\n",
              "    }\n",
              "\n",
              "    [theme=dark] .colab-df-convert {\n",
              "      background-color: #3B4455;\n",
              "      fill: #D2E3FC;\n",
              "    }\n",
              "\n",
              "    [theme=dark] .colab-df-convert:hover {\n",
              "      background-color: #434B5C;\n",
              "      box-shadow: 0px 1px 3px 1px rgba(0, 0, 0, 0.15);\n",
              "      filter: drop-shadow(0px 1px 2px rgba(0, 0, 0, 0.3));\n",
              "      fill: #FFFFFF;\n",
              "    }\n",
              "  </style>\n",
              "\n",
              "      <script>\n",
              "        const buttonEl =\n",
              "          document.querySelector('#df-ec87e884-656e-4cd1-b0d1-c309a7bd47d2 button.colab-df-convert');\n",
              "        buttonEl.style.display =\n",
              "          google.colab.kernel.accessAllowed ? 'block' : 'none';\n",
              "\n",
              "        async function convertToInteractive(key) {\n",
              "          const element = document.querySelector('#df-ec87e884-656e-4cd1-b0d1-c309a7bd47d2');\n",
              "          const dataTable =\n",
              "            await google.colab.kernel.invokeFunction('convertToInteractive',\n",
              "                                                     [key], {});\n",
              "          if (!dataTable) return;\n",
              "\n",
              "          const docLinkHtml = 'Like what you see? Visit the ' +\n",
              "            '<a target=\"_blank\" href=https://colab.research.google.com/notebooks/data_table.ipynb>data table notebook</a>'\n",
              "            + ' to learn more about interactive tables.';\n",
              "          element.innerHTML = '';\n",
              "          dataTable['output_type'] = 'display_data';\n",
              "          await google.colab.output.renderOutput(dataTable, element);\n",
              "          const docLink = document.createElement('div');\n",
              "          docLink.innerHTML = docLinkHtml;\n",
              "          element.appendChild(docLink);\n",
              "        }\n",
              "      </script>\n",
              "    </div>\n",
              "  </div>\n",
              "  "
            ]
          },
          "metadata": {},
          "execution_count": 108
        }
      ]
    },
    {
      "cell_type": "code",
      "source": [
        "# Visualize the result by line chart\n",
        "plt.plot(final_result[\"k\"], final_result[\"Accuracy\"], label = \"Accuracy\")\n",
        "plt.plot(final_result[\"k\"], final_result[\"Precision\"], label = \"Precision\",linestyle=\"-\")\n",
        "plt.plot(final_result[\"k\"], final_result[\"Recall\"], label = \"Recall\",linestyle=\"-.\")\n",
        "plt.legend(loc=(0.51, 0.05)) ## Modify the position of legend\n",
        "plt.show()"
      ],
      "metadata": {
        "colab": {
          "base_uri": "https://localhost:8080/",
          "height": 267
        },
        "id": "lySY0YJW9Z0l",
        "outputId": "0b799b8a-fa66-43fa-e80f-b29b3c5621c5"
      },
      "execution_count": null,
      "outputs": [
        {
          "output_type": "display_data",
          "data": {
            "text/plain": [
              "<Figure size 432x288 with 1 Axes>"
            ],
            "image/png": "[encoded data removed]"
          },
          "metadata": {
            "needs_background": "light"
          }
        }
      ]
    }
  ],
  "metadata": {
    "colab": {
      "provenance": []
    },
    "kernelspec": {
      "display_name": "Python 3",
      "name": "python3"
    }
  },
  "nbformat": 4,
  "nbformat_minor": 0
}