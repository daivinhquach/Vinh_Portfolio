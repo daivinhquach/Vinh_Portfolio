{
  "nbformat": 4,
  "nbformat_minor": 0,
  "metadata": {
    "colab": {
      "provenance": []
    },
    "kernelspec": {
      "name": "python3",
      "display_name": "Python 3"
    },
    "language_info": {
      "name": "python"
    }
  },
  "cells": [
    {
      "cell_type": "code",
      "execution_count": null,
      "metadata": {
        "id": "nvMdYEf4Eyov"
      },
      "outputs": [],
      "source": [
        "## Import neccessary packages\n",
        "import pandas as pd\n",
        "from csv import reader\n",
        "import matplotlib.pyplot as plt\n",
        "import numpy as np\n",
        "from datetime import datetime\n",
        "import seaborn as sns\n",
        "from mlxtend.plotting import plot_confusion_matrix"
      ]
    },
    {
      "cell_type": "code",
      "source": [
        "## Reading dataset\n",
        "tennis = pd.read_csv(\"tennis.txt\",sep=\",\")\n",
        "car = pd.read_csv(\"car_evaluation.csv\",header=None)\n",
        "car.columns =['buying', 'maint', 'doors', 'persons','lug_boot','safety','class']\n",
        "car[\"class\"] = np.where(car[\"class\"] == \"unacc\",\"0\",\"1\")"
      ],
      "metadata": {
        "id": "YvzDgzsiSWWW"
      },
      "execution_count": null,
      "outputs": []
    },
    {
      "cell_type": "markdown",
      "source": [
        "## ***I> Reading dataset and EDA***"
      ],
      "metadata": {
        "id": "GCKfaleGS1YA"
      }
    },
    {
      "cell_type": "code",
      "source": [
        "## Checking dataset on number of values in each values, missing value, outliers"
      ],
      "metadata": {
        "id": "8V9Bcu28SboD"
      },
      "execution_count": null,
      "outputs": []
    },
    {
      "cell_type": "code",
      "source": [
        "# Show the number values of each column\n",
        "sns.set(style=\"darkgrid\")\n",
        "ax = sns.countplot(x=\"class\", data=car)"
      ],
      "metadata": {
        "colab": {
          "base_uri": "https://localhost:8080/",
          "height": 285
        },
        "id": "9otvuuMgSbvb",
        "outputId": "5a323e12-c834-4c58-86a2-26c88f379a33"
      },
      "execution_count": null,
      "outputs": [
        {
          "output_type": "display_data",
          "data": {
            "text/plain": [
              "<Figure size 432x288 with 1 Axes>"
            ],
            "image/png": "[encoded data removed]"
          },
          "metadata": {}
        }
      ]
    },
    {
      "cell_type": "code",
      "source": [
        "# Show the missing values of each column\n",
        "sns.heatmap(car.isnull(),\\\n",
        "            # yticklabels=False,cbar=False,cmap=\"blue\"\n",
        "            )"
      ],
      "metadata": {
        "colab": {
          "base_uri": "https://localhost:8080/",
          "height": 327
        },
        "id": "X1EPElOMSb25",
        "outputId": "0b0f4916-30ff-4d56-ca46-ad87a0e0a24d"
      },
      "execution_count": null,
      "outputs": [
        {
          "output_type": "execute_result",
          "data": {
            "text/plain": [
              "<matplotlib.axes._subplots.AxesSubplot at 0x7f5b553ef220>"
            ]
          },
          "metadata": {},
          "execution_count": 77
        },
        {
          "output_type": "display_data",
          "data": {
            "text/plain": [
              "<Figure size 432x288 with 2 Axes>"
            ],
            "image/png": "[encoded data removed]"
          },
          "metadata": {}
        }
      ]
    },
    {
      "cell_type": "markdown",
      "source": [
        "## ***II> Writing decision tree from scratch***"
      ],
      "metadata": {
        "id": "3LlYKG7zSwAU"
      }
    },
    {
      "cell_type": "code",
      "source": [
        "def train_test(orginal_dataset,percent):\n",
        "  '''\n",
        "  This function is to split dataset into training and testing data and differentiate variable columns and class column\n",
        "  Orginal_dataset: the data need to be splited\n",
        "  Persent: how many percent to split training set\n",
        "  '''\n",
        "  ## Split dataset into training and testing data\n",
        "  sz = len(orginal_dataset) ## Counting number of row in orginal_dataset\n",
        "  cut = int(percent * sz)\n",
        "  shuffled_l = orginal_dataset.sample(frac=1) ## shiffle the dataset\n",
        "  train = shuffled_l[:cut] # first percent% of dataset will be training set\n",
        "  test = shuffled_l[cut:] # last (1-percent)% of dataset will be testing set\n",
        "\n",
        "  return train,test"
      ],
      "metadata": {
        "id": "5is5fNeEFGt3"
      },
      "execution_count": null,
      "outputs": []
    },
    {
      "cell_type": "code",
      "source": [
        "class Tree_node:\n",
        "  def __init__(self,\n",
        "               nodeId = None,\n",
        "               nodeType= None,\n",
        "               split_feature= None,\n",
        "               split_value= None,\n",
        "               left= None,\n",
        "               right= None,\n",
        "               classValue= None):\n",
        "    self.nodeId = nodeId\n",
        "    self.nodeType = nodeType\n",
        "    self.split_feature = split_feature\n",
        "    self.split_value = split_value\n",
        "    self.left = left\n",
        "    self.right = right\n",
        "    self.classValue = classValue\n",
        "\n",
        "\n",
        "  def add_node(self,tree):\n",
        "    '''\n",
        "    This function adds a node by add a new line into a tree dataset (tree dataset will create empty when using function model_training after a split\n",
        "    if we do not want to split the dataset anymore, we will consider it as a leaf and show it's ID, TypeNode = Leaf and classes which dominaed in the dataset\n",
        "    if we continue split the dataset, we will consider it as a Decision and show it's ID, TypeNode = Decision and column+value to create the next split and the position of left and right side\n",
        "    '''\n",
        "    if (self.nodeType == \"Leaf\"):\n",
        "      tree.loc[len(tree)+1] = (self.nodeId,self.nodeType,np.NaN,np.NaN,np.NaN,np.NaN,self.classValue)\n",
        "    elif (self.nodeType == \"Decision\"):\n",
        "      tree.loc[len(tree)+1] = (self.nodeId,self.nodeType,self.split_feature,self.split_value,self.left,self.right,np.NaN)\n",
        "    return tree"
      ],
      "metadata": {
        "id": "MgTIfSMJCAf8"
      },
      "execution_count": null,
      "outputs": []
    },
    {
      "cell_type": "code",
      "source": [
        "class DecisionTree:\n",
        "  def __init__(self,\n",
        "               max_depth= 3,\n",
        "               debug = None):\n",
        "    self.max_depth= max_depth\n",
        "    self.debug = debug\n",
        "    self.model = None\n",
        "\n",
        "  def Gini_index(self,dataset,class_column):\n",
        "    '''\n",
        "    This function computes the impurity of the key column\n",
        "    formula of impurity = 1 - [(n1/(n1+n2+...+nn))^2 + n2/(n1+n2+...+nn))^2 + .... + nn/(n1+n2+...+nn))^2]\n",
        "    '''\n",
        "    ## Counting the number of each unique value in class column\n",
        "    unique_list = dataset.groupby([class_column])[class_column].size().reset_index(name='count')\n",
        "    ## Computing percent of value\n",
        "    unique_list[\"percent\"] = unique_list[\"count\"].apply(lambda x: (x/len(dataset))**2)\n",
        "    ## The impurity of the orginal data\n",
        "    gini_impurity = 1 - sum(unique_list[\"percent\"])\n",
        "    return gini_impurity\n",
        "\n",
        "  def information_gain(self,dataset,feature,value,class_column):\n",
        "    '''\n",
        "    This function computes the information gain after and before spliting for each value in each column\n",
        "    formula of infformation gain = information_gain_before - average(information_gain_left+information_gain_right)\n",
        "    '''\n",
        "    ## Split the dataset into 2 subsets one equal to according variables (left) and one is not (right)\n",
        "    left_tree = dataset[dataset[feature] == value]\n",
        "    right_tree = dataset[dataset[feature] != value]\n",
        "\n",
        "    ## Calculate impurity of the previous dataset and the left and right datasets\n",
        "    gini_before = self.Gini_index(dataset,class_column)\n",
        "    gini_left = self.Gini_index(left_tree,class_column)\n",
        "    gini_right = self.Gini_index(right_tree,class_column)\n",
        "\n",
        "    ## Calculate information gain based on impurity of the previous dataset and the left and right datasets\n",
        "    info_gain = gini_before - ((gini_left+gini_right)/2)\n",
        "    return info_gain\n",
        "\n",
        "\n",
        "  def best_split(self,dataset,class_column):\n",
        "    '''\n",
        "    This function chooses a value which has the highest information gain in order to split the dataset\n",
        "    '''\n",
        "    ## Set up some first variables to compare and store result\n",
        "    best_gain = -1\n",
        "    best_feature = \"\"\n",
        "    best_value = \"\"\n",
        "\n",
        "    ## Loops over each value in each column until figure out which one has the best information gain and show it's column and name\n",
        "    for column in dataset.drop([class_column],1).columns.tolist():\n",
        "      splitted_feature = list(set(dataset[column]))\n",
        "      for value in splitted_feature:\n",
        "        infor_gain = self.information_gain(dataset,column,value,class_column)\n",
        "        if (infor_gain > best_gain):\n",
        "          best_gain = infor_gain\n",
        "          best_feature = column\n",
        "          best_value = value\n",
        "    return best_gain,best_feature,best_value\n",
        "\n",
        "\n",
        "  def model_training(self, dataset,class_column, tree, nodeId= 0, depth= 0):\n",
        "    '''\n",
        "    This function trains the model by using the functions above\n",
        "    expected result: will have how many nodeIDs are created in which many Leafs and many Decisions,\n",
        "    If decisons, name of column and value for the next split\n",
        "    If leaf, name of class\n",
        "    '''\n",
        "    ## Compute impurity index for entire dataset\n",
        "    impurity = self.Gini_index(dataset,class_column)\n",
        "\n",
        "    ## Set up leaf variable if any row meet the requirement to become a leaf node\n",
        "    leaf = Tree_node(\n",
        "                      nodeId= nodeId,\n",
        "                      nodeType= \"Leaf\",\n",
        "                      split_feature = np.NaN,\n",
        "                      split_value = np.NaN,\n",
        "                      left= np.NaN, right= np.NaN,\n",
        "                      classValue=  dataset[class_column].value_counts().idxmax()\n",
        "                      )\n",
        "\n",
        "\n",
        "    ## if impurity = 0 meaning that dataset contains only one type of class or no data in that dataset or the size of tree reached our expectation, the model will automatically add a leaf after ward\n",
        "    if (impurity == 0) or (len(dataset) == 0) or (depth == self.max_depth):\n",
        "      tree = leaf.add_node(tree = tree)\n",
        "      return tree\n",
        "\n",
        "    ## If the dataset does not meet the conditions above then it will be splitted\n",
        "    split_infor = self.best_split(dataset,class_column)\n",
        "    left_split = dataset.loc[dataset[split_infor[1]] ==  split_infor[2]]\n",
        "    right_split = dataset.loc[dataset[split_infor[1]] !=  split_infor[2]]\n",
        "\n",
        "    ## If there is not data in right or left datasets, the model will also add a leaf in that dataset afterward\n",
        "    if (len(left_split) == 0) or (len(right_split) == 0):\n",
        "      tree = leaf.add_node(tree = tree)\n",
        "      return tree\n",
        "\n",
        "    ## If left and right dataset still have data, the model will then add a decision to figure out the best value and column for the next split\n",
        "\n",
        "    ## Set up decision variable if any row meet the requirement to become a decision node\n",
        "    decision = Tree_node(\n",
        "                    nodeId= nodeId,\n",
        "                    nodeType= \"Decision\",\n",
        "                    split_feature = split_infor[1],\n",
        "                    split_value = split_infor[2],\n",
        "                    left= np.NaN, right= np.NaN,\n",
        "                    classValue = np.NaN\n",
        "                    )\n",
        "\n",
        "    tree = decision.add_node(tree = tree)\n",
        "\n",
        "    ## the model will automatically split the tree for each side until meet first or second condition (which show their leaf), after a split the model will the order of node will increase 1 unit\n",
        "    ## left branch\n",
        "    next_node = tree[\"NODE\"].apply(pd.to_numeric).max() + 1\n",
        "    tree = self.model_training(dataset = left_split,\n",
        "                        nodeId= next_node,\n",
        "                        tree= tree,\n",
        "                        depth= depth+1,\n",
        "                        class_column= class_column\n",
        "                        )\n",
        "\n",
        "    tree.loc[tree[\"NODE\"] == nodeId, \"LEFT\"] = next_node\n",
        "\n",
        "    ## right branch\n",
        "    next_node = tree[\"NODE\"].apply(pd.to_numeric).max() + 1\n",
        "    tree = self.model_training(dataset = right_split,\n",
        "                        nodeId= next_node,\n",
        "                        tree= tree,\n",
        "                        depth= depth+1,\n",
        "                        class_column= class_column\n",
        "                        )\n",
        "    tree.loc[tree[\"NODE\"] == nodeId, \"RIGHT\"] = next_node\n",
        "    return tree\n",
        "\n",
        "  def fit(self, X, y):\n",
        "        tree = pd.DataFrame(columns=[\"NODE\",\"TYPE\",\"SPLIT_FEATURE\",\"SPLIT_VALUE\",\"LEFT\",\"RIGHT\",\"CLASS_VALUE\"])\n",
        "        self.model = self.model_training(X, y, tree = tree)\n",
        "\n",
        "\n",
        "  def _predict_one(self,row_to_predict):\n",
        "    '''\n",
        "    This function predicts the class of each row in the predict set after figure out which values to classify and predict the class of a row\n",
        "    model: is the model we have from model_training function\n",
        "    row_to_predict: a row we want to predict\n",
        "    debug: to showcase the progress of the model\n",
        "    '''\n",
        "    ## Set up some first variables to compare\n",
        "    curr_node_idx= 0\n",
        "    curr_node = self.model[self.model[\"NODE\"] == curr_node_idx]\n",
        "    is_leaf = curr_node[curr_node[\"TYPE\"] == \"LEAF\"]\n",
        "\n",
        "    ## Loops over each best value from the training model to split\n",
        "    while (curr_node.iloc[0]['TYPE'] != \"Leaf\"):\n",
        "      test_feature = curr_node[\"SPLIT_FEATURE\"]\n",
        "      test_value = curr_node[\"SPLIT_VALUE\"]\n",
        "      if (self.debug):\n",
        "        print(\"Node\",curr_node_idx,\":using\",test_feature,\"=\",test_value,\": is_leaf=\",is_leaf)\n",
        "\n",
        "      curr_node_idx =  np.where(row_to_predict[test_feature].values[0] == test_value,\n",
        "                                curr_node[\"LEFT\"].apply(pd.to_numeric),\n",
        "                                curr_node[\"RIGHT\"].apply(pd.to_numeric))\n",
        "\n",
        "      curr_node_idx = curr_node_idx[0]\n",
        "      curr_node = self.model[self.model[\"NODE\"]==curr_node_idx]\n",
        "      is_leaf = (curr_node[curr_node[\"TYPE\"]==\"LEAF\"])\n",
        "\n",
        "    if (self.debug):\n",
        "        print(\"Found leaf!\")\n",
        "\n",
        "    return curr_node[\"CLASS_VALUE\"].values\n",
        "\n",
        "  def predict(self,pred_dataset):\n",
        "    '''\n",
        "    This function is to predict whole dataset by apply each row in the prediction dataset to _predict_one function\n",
        "    pred_dataset: is the dataset we want to predict\n",
        "    '''\n",
        "    ## Convert best column for splitting to a list\n",
        "    convert = self.model.groupby('SPLIT_FEATURE').agg(lambda x: list(x.dropna())).reset_index()\n",
        "    list_of_split_feature = convert[\"SPLIT_FEATURE\"].to_list()\n",
        "\n",
        "    ## filter our neccessary column after training to predict\n",
        "    instances = pred_dataset[list_of_split_feature]\n",
        "\n",
        "    #### Predict a whole test dataset\n",
        "    predictions = []\n",
        "    for row in range(len(instances)):\n",
        "      pred = self._predict_one(row_to_predict = instances.iloc[row])\n",
        "      predictions.append(pred) # store it in a new column\n",
        "\n",
        "    ## assign the prediction to prediction dataset\n",
        "    pred_dataset[\"predictions\"] = predictions\n",
        "    ## convert data to string\n",
        "    pred_dataset[\"predictions\"] = pred_dataset[\"predictions\"].apply(lambda row : \" \".join(map(str,row)))\n",
        "\n",
        "    return pred_dataset"
      ],
      "metadata": {
        "id": "OJ7OMESom0jR"
      },
      "execution_count": null,
      "outputs": []
    },
    {
      "cell_type": "markdown",
      "source": [
        "## ***III> Validate the result***"
      ],
      "metadata": {
        "id": "KJd6cZbQcDIQ"
      }
    },
    {
      "cell_type": "code",
      "source": [
        "def validation(dataset,class_column):\n",
        "  '''\n",
        "  This function validates the prediction by showing accuracy and Precision and Recall\n",
        "  '''\n",
        "  ## Calculate Accuracy of the dataset\n",
        "  dataset['comparison'] = np.where(dataset[class_column] == dataset['predictions'], \"True\", \"False\")\n",
        "  Accuracy = (len(dataset[dataset['comparison'] == \"True\"])/ \\\n",
        "              (len(dataset[dataset['comparison'] == \"True\"])+ \\\n",
        "                len(dataset[dataset['comparison'] == \"False\"])))*100\n",
        "\n",
        "  ## Calculate Precision and recall of the dataset (Precision = TP/(TP+FP), Recall = TP/(TP+FN))\n",
        "  dataset['Confusion_matrix']  = np.where((dataset[class_column] == \"1\")&(dataset['predictions'] == \"1\"),\"True_positive\",\\\n",
        "                                    np.where((dataset[class_column] == \"1\")&(dataset['predictions'] == \"0\"),\"False_positive\",\n",
        "                                       np.where((dataset[class_column] == \"0\")&(dataset['predictions'] == \"1\"),\"False_negative\",\"True_negative\")\n",
        "                    )\n",
        "          )\n",
        "\n",
        "  Precision =  (len(dataset[dataset['Confusion_matrix'] == \"True_positive\"])/ \\\n",
        "                (len(dataset[dataset['Confusion_matrix'] == \"True_positive\"])+\\\n",
        "                len(dataset[dataset['Confusion_matrix'] == \"False_positive\"])))*100\n",
        "\n",
        "  Recall =  (len(dataset[dataset['Confusion_matrix'] == \"True_positive\"])/ \\\n",
        "            (len(dataset[dataset['Confusion_matrix'] == \"True_positive\"])+ \\\n",
        "              len(dataset[dataset['Confusion_matrix'] == \"False_negative\"])))*100\n",
        "\n",
        "  return Accuracy,Precision,Recall"
      ],
      "metadata": {
        "id": "-LWWuNe-R2aW"
      },
      "execution_count": null,
      "outputs": []
    },
    {
      "cell_type": "code",
      "source": [
        "def conf_mat(dataset):\n",
        "  '''\n",
        "  This function to compute confusion matrix in order to visualize it\n",
        "  '''\n",
        "  TP = len(dataset[dataset['Confusion_matrix'] == \"True_positive\"])\n",
        "  FP = len(dataset[dataset['Confusion_matrix'] == \"False_positive\"])\n",
        "  TN = len(dataset[dataset['Confusion_matrix'] == \"True_negative\"])\n",
        "  FN = len(dataset[dataset['Confusion_matrix'] == \"False_negative\"])\n",
        "  line_1 = [TN,FN]\n",
        "  line_2 = [FP,TP]\n",
        "  a_list_confusion_matrix = [line_1,line_2]\n",
        "  confu_matrix = np.array(a_list_confusion_matrix)\n",
        "  return confu_matrix"
      ],
      "metadata": {
        "id": "88iQ3NjHR8qi"
      },
      "execution_count": null,
      "outputs": []
    },
    {
      "cell_type": "markdown",
      "source": [
        "## ***IV> Implementation***"
      ],
      "metadata": {
        "id": "H-iuEv6goYQr"
      }
    },
    {
      "cell_type": "code",
      "source": [
        "x_train,x_test = train_test(car,0.8)\n",
        "# x_train = x_train.drop('Day', axis=1)"
      ],
      "metadata": {
        "id": "krk813sNkR7X"
      },
      "execution_count": null,
      "outputs": []
    },
    {
      "cell_type": "code",
      "source": [
        "if __name__ == '__main__':\n",
        "\n",
        "  comparing = []\n",
        "\n",
        "  for i in range(3,15):\n",
        "\n",
        "      start_time = datetime.now()\n",
        "\n",
        "      model = DecisionTree(max_depth= i)\n",
        "      model.fit(X = x_train, y = \"class\")\n",
        "      the_prediction = model.predict(x_test)\n",
        "\n",
        "      end_time = datetime.now()\n",
        "      running_time = end_time-start_time\n",
        "\n",
        "      acc, pre, rec = validation(the_prediction,\"class\")\n",
        "      comparing.append([i,acc, pre, rec,running_time])\n",
        "\n",
        "  final_result = pd.DataFrame(comparing, columns = [\"Max_depth\",\"Accuracy\",\"Precision\",\"Recall\",\"Running_time\"])\n",
        "  print(final_result)"
      ],
      "metadata": {
        "id": "OnOAUpjgFLA_",
        "colab": {
          "base_uri": "https://localhost:8080/"
        },
        "outputId": "392dc6a3-0f0b-44ea-da9d-43363c7d3db0"
      },
      "execution_count": null,
      "outputs": [
        {
          "output_type": "stream",
          "name": "stderr",
          "text": [
            "<ipython-input-87-dce03d333b15>:51: FutureWarning: In a future version of pandas all arguments of DataFrame.drop except for the argument 'labels' will be keyword-only\n",
            "  for column in dataset.drop([class_column],1).columns.tolist():\n"
          ]
        },
        {
          "output_type": "stream",
          "name": "stdout",
          "text": [
            "    Max_depth   Accuracy   Precision     Recall           Running_time\n",
            "0           3  82.947977  100.000000  63.580247 0 days 00:00:02.030097\n",
            "1           4  85.260116   64.077670  82.500000 0 days 00:00:02.481269\n",
            "2           5  88.150289  100.000000  71.527778 0 days 00:00:03.175593\n",
            "3           6  88.150289  100.000000  71.527778 0 days 00:00:03.783205\n",
            "4           7  92.196532   95.145631  81.666667 0 days 00:00:04.413577\n",
            "5           8  91.618497   93.203883  81.355932 0 days 00:00:05.178201\n",
            "6           9  94.219653   96.116505  86.086957 0 days 00:00:06.151950\n",
            "7           3  82.947977  100.000000  63.580247 0 days 00:00:02.132005\n",
            "8           4  85.260116   64.077670  82.500000 0 days 00:00:02.538001\n",
            "9           5  88.150289  100.000000  71.527778 0 days 00:00:03.055304\n",
            "10          6  88.150289  100.000000  71.527778 0 days 00:00:03.825557\n",
            "11          7  92.196532   95.145631  81.666667 0 days 00:00:04.900508\n",
            "12          8  91.618497   93.203883  81.355932 0 days 00:00:05.146651\n",
            "13          9  94.219653   96.116505  86.086957 0 days 00:00:06.067894\n",
            "14         10  95.086705   96.116505  88.392857 0 days 00:00:06.856055\n",
            "15         11  95.664740   98.058252  88.596491 0 days 00:00:07.766397\n",
            "16         12  94.508671   95.145631  87.500000 0 days 00:00:08.604023\n",
            "17         13  95.086705   97.087379  87.719298 0 days 00:00:09.051172\n",
            "18         14  95.086705   97.087379  87.719298 0 days 00:00:09.352201\n"
          ]
        }
      ]
    },
    {
      "cell_type": "code",
      "source": [
        "final_result_1 = final_result.drop('Running_time', axis=1).drop_duplicates()"
      ],
      "metadata": {
        "id": "jc08tWw1v6Vu"
      },
      "execution_count": null,
      "outputs": []
    },
    {
      "cell_type": "code",
      "source": [
        "# Visualize the result by line chart\n",
        "plt.plot(final_result_1[\"Max_depth\"], final_result_1[\"Accuracy\"], label = \"Accuracy\")\n",
        "plt.plot(final_result_1[\"Max_depth\"], final_result_1[\"Precision\"], label = \"Precision\",linestyle=\"-\")\n",
        "plt.plot(final_result_1[\"Max_depth\"], final_result_1[\"Recall\"], label = \"Recall\",linestyle=\"-.\")\n",
        "plt.legend(loc=(0.51, 0.05)) ## Modify the position of legend\n",
        "plt.show()"
      ],
      "metadata": {
        "colab": {
          "base_uri": "https://localhost:8080/",
          "height": 268
        },
        "id": "0EhwVtCTuwX-",
        "outputId": "d870ecdb-9a6b-4b10-c86a-83d782349568"
      },
      "execution_count": null,
      "outputs": [
        {
          "output_type": "display_data",
          "data": {
            "text/plain": [
              "<Figure size 432x288 with 1 Axes>"
            ],
            "image/png": "[encoded data removed]"
          },
          "metadata": {}
        }
      ]
    },
    {
      "cell_type": "code",
      "source": [
        "if __name__ == '__main__':\n",
        "    model = DecisionTree(max_depth= 11)\n",
        "    model.fit(X = x_train, y = \"class\")\n",
        "    the_prediction = model.predict(x_test)"
      ],
      "metadata": {
        "colab": {
          "base_uri": "https://localhost:8080/"
        },
        "id": "rux7P225toDF",
        "outputId": "b9b0eed3-36d3-41cd-9786-813e1e6a17d0"
      },
      "execution_count": null,
      "outputs": [
        {
          "output_type": "stream",
          "name": "stderr",
          "text": [
            "<ipython-input-87-dce03d333b15>:51: FutureWarning: In a future version of pandas all arguments of DataFrame.drop except for the argument 'labels' will be keyword-only\n",
            "  for column in dataset.drop([class_column],1).columns.tolist():\n"
          ]
        }
      ]
    },
    {
      "cell_type": "code",
      "source": [
        "## Draw confusionm matrix chart\n",
        "confusion_matrix = conf_mat(the_prediction)\n",
        "class_names = [\"0\",\"1\"]\n",
        "fig, ax = plot_confusion_matrix(conf_mat=confusion_matrix, figsize=(6, 6), cmap=plt.cm.Blues)\n",
        "## Change label name\n",
        "plt.xlabel('Predictions', fontsize=18)\n",
        "plt.ylabel('class', fontsize=18)\n",
        "plt.title('Confusion Matrix', fontsize=18)\n",
        "## Change value name\n",
        "ax.set_xticklabels(['', '0', '1'])\n",
        "ax.set_yticklabels(['', '0', '1']);\n",
        "plt.show()"
      ],
      "metadata": {
        "colab": {
          "base_uri": "https://localhost:8080/",
          "height": 435
        },
        "id": "ff45A-HbSJuS",
        "outputId": "1caf382e-cf05-42d0-ee8d-521ddfb45f92"
      },
      "execution_count": null,
      "outputs": [
        {
          "output_type": "display_data",
          "data": {
            "text/plain": [
              "<Figure size 432x432 with 1 Axes>"
            ],
            "image/png": "[encoded data removed]"
          },
          "metadata": {}
        }
      ]
    },
    {
      "cell_type": "code",
      "source": [],
      "metadata": {
        "id": "5u9TO8v1twp4"
      },
      "execution_count": null,
      "outputs": []
    }
  ]
}